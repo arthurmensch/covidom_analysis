{
 "cells": [
  {
   "cell_type": "markdown",
   "metadata": {},
   "source": [
    "# Proportions of the decision tree for PCR testing"
   ]
  },
  {
   "cell_type": "code",
   "execution_count": null,
   "metadata": {},
   "outputs": [],
   "source": [
    "import seaborn as sns\n",
    "import statsmodels.api as sm\n",
    "import pandas as pd\n",
    "import numpy as np\n",
    "import seaborn as sns\n",
    "from IPython.display import HTML\n",
    "from sklearn import tree\n",
    "import plotly.express as px\n",
    "import matplotlib.pyplot as plt\n",
    "import scipy.stats as stats\n",
    "from joblib import load\n",
    "from tools import enrich_survey"
   ]
  },
  {
   "cell_type": "code",
   "execution_count": null,
   "metadata": {},
   "outputs": [],
   "source": [
    "merged = pd.read_csv('data/shuffled.csv')"
   ]
  },
  {
   "cell_type": "code",
   "execution_count": null,
   "metadata": {},
   "outputs": [],
   "source": [
    "WEIGHTING = False"
   ]
  },
  {
   "cell_type": "code",
   "execution_count": null,
   "metadata": {},
   "outputs": [],
   "source": [
    "merged = merged.pipe(enrich_survey)"
   ]
  },
  {
   "cell_type": "code",
   "execution_count": null,
   "metadata": {},
   "outputs": [],
   "source": [
    "symptoms = ['tiredness',\n",
    " 'fever',\n",
    " 'shivers',\n",
    " 'cough',\n",
    " 'breathlessness',\n",
    " 'aches',\n",
    " 'chest_opression',\n",
    " 'chest_pain',\n",
    " 'diarrhea',\n",
    " 'vomiting',\n",
    " 'sensoriel', \n",
    " 'anosmia',\n",
    " 'ageusia',\n",
    " 'anorexia',\n",
    " 'rash',\n",
    " 'frostbites',\n",
    " 'conjunctivitis',\n",
    " 'other_sympt']"
   ]
  },
  {
   "cell_type": "code",
   "execution_count": null,
   "metadata": {},
   "outputs": [],
   "source": [
    "# Preprocess\n",
    "na_labels = {'pcr_results':-1, }\n",
    "main = merged.fillna(na_labels)\n",
    "\n",
    "main = main.replace({'Non':0, 'Oui':1})\n",
    "main['sensoriel'] = main[['anosmia', 'ageusia']].max(axis=1)\n",
    "main[symptoms] = main[symptoms].fillna(0).astype('int')\n",
    "\n",
    "# Groupements \n",
    "main['chest'] = main[['chest_pain', 'chest_opression']].max(axis=1)\n",
    "main['cutan'] = main[['rash', 'frostbites']].max(axis=1)\n",
    "main['digest'] = main[['vomiting', 'diarrhea']].max(axis=1)\n",
    "main['breath_thorac'] = main[['chest', 'breathlessness']].min(axis=1)\n",
    "main['fever_cough'] = main[['fever', 'cough']].min(axis=1)\n",
    "\n",
    "# Remove duplicates, keep last events\n",
    "# main = main.sort_values('start_time').groupby('patient_id').agg('last').reset_index()"
   ]
  },
  {
   "cell_type": "code",
   "execution_count": null,
   "metadata": {},
   "outputs": [],
   "source": [
    "from collections import defaultdict\n",
    "SYMPTOM_DICT = {}\n",
    "for s in ['tiredness', 'fever', 'cough', 'breathlessness', 'aches',\n",
    "          'anorexia', 'anosmia', 'ageusia', 'headache', \n",
    "#           'upper_respiratory',\n",
    "          'conjunctivitis']:\n",
    "    SYMPTOM_DICT[s] = [s]\n",
    "SYMPTOM_DICT['cutaneous'] = ['rash', 'frostbites']\n",
    "SYMPTOM_DICT['digestive'] = ['diarrhea', 'vomiting', 'abdo_pain']\n",
    "SYMPTOM_DICT['cardiopulmonary'] = ['breathlessness', 'chest_opression', 'chest_pain']\n",
    "for k, v in SYMPTOM_DICT.items():\n",
    "    main[k] = np.any(main[v], axis=1)\n",
    "SYMPTOMS = list(SYMPTOM_DICT.keys())\n",
    "\n",
    "SYMPTOMS = ['tiredness',\n",
    " 'fever',\n",
    " 'cough',\n",
    " 'breathlessness',\n",
    " 'aches',\n",
    " 'anorexia',\n",
    " 'anosmia',\n",
    " 'ageusia',\n",
    " 'headache',\n",
    " 'conjunctivitis',\n",
    " 'cutaneous',\n",
    " 'digestive',\n",
    " 'cardiopulmonary']\n",
    "\n",
    "SEX = ['male', 'female', 'undetermined']\n",
    "TOBACCO = ['smoker_current', 'no_smoker']\n",
    "COMORBIDITIES = ['no_comorbidity', 'any_comorbidity', 'respiratory', 'cardio-vascular', 'diabetes', 'obesity']\n",
    "HOSPITALIZED = ['hospitalized','non_hospitalized']\n",
    "INCLUSION_REASONS = ['samu', 'urgence']\n",
    "AGE = main['binned_age'].cat.categories.tolist()\n",
    "X_weight = main[SEX + TOBACCO + COMORBIDITIES + AGE + SYMPTOMS + HOSPITALIZED]\n",
    "\n",
    "y_weight = main['test_done'].astype(bool)\n",
    "\n",
    "from sklearn.linear_model import LogisticRegression\n",
    "\n",
    "lr = LogisticRegression(C=10000)\n",
    "\n",
    "lr.fit(X_weight, y_weight)\n",
    "\n",
    "main['sample_weight'] = 1\n",
    "main['p_test'] = lr.predict_proba(X_weight)[:, 1]\n",
    "main.loc[merged['test_done'], 'sample_weight'] = 1 / main.loc[main['test_done'], 'p_test']\n",
    "main.loc[~merged['test_done'], 'sample_weight'] = 1 / (1 - main.loc[~main['test_done'], 'p_test'])\n",
    "main['sample_weight'] /= main.loc[main['test_done'], 'sample_weight'].sum() / len(main.loc[main['test_done']])"
   ]
  },
  {
   "cell_type": "code",
   "execution_count": null,
   "metadata": {},
   "outputs": [],
   "source": [
    "if not WEIGHTING:\n",
    "    main['sample_weight'] = 1"
   ]
  },
  {
   "cell_type": "markdown",
   "metadata": {},
   "source": [
    "# Stats descriptives"
   ]
  },
  {
   "cell_type": "code",
   "execution_count": null,
   "metadata": {},
   "outputs": [],
   "source": [
    "main['group'] = np.nan\n",
    "main.loc[main.sensoriel == 1, 'group'] = \"Anosmia and Agueusia\"\n",
    "main.loc[(main.sensoriel == 0) & (main.fever_cough == 1), 'group'] = \"No anosmia and agueusia - Fever and cough\"\n",
    "main.loc[(main.sensoriel == 0) & (main.fever_cough == 0) & (main.breath_thorac == 1), 'group'] = \"No anosmia and agueusia - no fever and cough - breathlessness with chest pain or oppression\"\n",
    "main.loc[(main.sensoriel == 0) & (main.fever_cough == 0) & (main.breath_thorac == 0), 'group'] = \"Others\"\n",
    "groups = main.group.unique()"
   ]
  },
  {
   "cell_type": "code",
   "execution_count": null,
   "metadata": {},
   "outputs": [],
   "source": [
    "def compute_odd_ratios(main, target=\"pcr_results\"):\n",
    "    \n",
    "    main.pcr_results = main.pcr_results.replace(-1, np.nan)\n",
    "    main['constant'] = 1.\n",
    "\n",
    "    odd_ratios = {}\n",
    "\n",
    "    for k in groups:\n",
    "        y = main[target]\n",
    "        main[k] = main.group == k\n",
    "        X = main[[k, 'constant']].astype(float)\n",
    "        mask = ~y.isna()\n",
    "        y = y.loc[mask].astype(float)\n",
    "        X = X.loc[mask]\n",
    "\n",
    "        logit_mod = sm.GLM(y, X, family=sm.families.Binomial(), var_weights=main.loc[mask, 'sample_weight'])\n",
    "        logit_res = logit_mod.fit()\n",
    "        mean = logit_res.params[k]\n",
    "        se = logit_res.bse[k]\n",
    "\n",
    "        odd_ratio = np.exp(mean - se).round(2), np.exp(mean).round(2), np.exp(mean + se).round(2)\n",
    "        odd_ratios[k] = f'{odd_ratio[1]:.2f} [{odd_ratio[0]:.2f}-{odd_ratio[2]:.2f}]'\n",
    "        \n",
    "    return odd_ratios"
   ]
  },
  {
   "cell_type": "code",
   "execution_count": null,
   "metadata": {},
   "outputs": [],
   "source": [
    "def create_grouped(main, cols):\n",
    "    \n",
    "    #compute on tested patients\n",
    "    main_tested = main[main.pcr_result!=-1]\n",
    "    patient_id_count = main_tested.groupby(['group'])['sample_weight'].sum()\n",
    "    pcr_result_sum = main_tested.loc[main_tested['pcr_positive'] == 1].groupby(['group'])['sample_weight'].sum()\n",
    "    pcr_result_all = main_tested.groupby(['group'])['sample_weight'].sum()\n",
    "    pcr_result_mean = pcr_result_sum / pcr_result_all\n",
    "    \n",
    "    #rename columns\n",
    "    grouped = pd.DataFrame({'patient_count_tested': patient_id_count, 'pcr+': pcr_result_mean, 'pcr+_count': pcr_result_sum})\n",
    "    \n",
    "    #compute % on tested patients\n",
    "    grouped['patient_%_tested'] = grouped['patient_count_tested'] / grouped.patient_count_tested.sum()\n",
    "    \n",
    "    #compute on all patients\n",
    "    grouped['patient_count_all'] = main.groupby(['group'])['sample_weight'].sum()\n",
    "    grouped = grouped.rename(columns={'patient_id':'patient_count_all'})\n",
    "    \n",
    "    #compute % on all patients\n",
    "    grouped['patient_%_all'] = grouped['patient_count_all'] / grouped.patient_count_all.sum()\n",
    "    \n",
    "    odd_ratios = compute_odd_ratios(main)\n",
    "    grouped['odds_ratio']= np.nan\n",
    "    grouped = grouped.reset_index()\n",
    "    for k in groups:\n",
    "        grouped.loc[grouped.group==k, 'odds_ratio'] = str(odd_ratios[k])\n",
    "    \n",
    "    grouped_cols=grouped[cols]\n",
    "    \n",
    "    return grouped_cols"
   ]
  },
  {
   "cell_type": "code",
   "execution_count": null,
   "metadata": {},
   "outputs": [],
   "source": [
    "cols_ = ['group', 'patient_count_all', 'patient_%_all', 'patient_count_tested', 'patient_%_tested', 'pcr+_count', 'pcr+', 'odds_ratio']\n",
    "grouped = create_grouped(main, cols_)\n",
    "\n",
    "c = ['patient_count_all', 'patient_count_tested', 'pcr+_count']\n",
    "grouped[c] = grouped[c].round(0).astype(int)\n",
    "\n",
    "all_cohort = grouped.patient_count_all.sum()\n",
    "tested_cohort = grouped.patient_count_tested.sum()\n",
    "pcr_cohort = grouped['pcr+_count'].sum()\n",
    "\n",
    "\n",
    "for i, row in grouped.iterrows():\n",
    "    grouped.loc[i, 'patient_count_all'] = f\"{grouped.loc[i, 'patient_count_all']} ({grouped.loc[i, 'patient_%_all'] * 100:.1f}%)\"\n",
    "    grouped.loc[i, 'patient_count_tested'] = f\"{grouped.loc[i, 'patient_count_tested']} ({grouped.loc[i, 'patient_%_tested'] * 100:.1f}%)\"\n",
    "    grouped.loc[i, 'pcr+_count'] = f\"{grouped.loc[i, 'pcr+_count']} ({grouped.loc[i, 'pcr+'] * 100:.1f}%)\"\n",
    "\n",
    "    \n",
    "grouped = grouped[['group'] + c + ['odds_ratio']]\n",
    "\n",
    "grouped.columns = pd.Index(['Group', f'Count in whole cohort (% of whole cohort, N={all_cohort})', f'Count in tested cohort (% of tested cohort, N={tested_cohort})', 'Count of PCR+ (% PCR+ among tested)', 'Odds ratio for PCR+'])\n",
    "\n",
    "grouped.to_csv(f'output/fig4_counts{\"_correct\" if WEIGHTING else \"\"}.csv')\n",
    "\n",
    "none = main[(main.pcr_result!=-1) & (main.group == \"Others\")]\n",
    "\n",
    "df = none[symptoms + ['chest', 'cutan', 'digest', 'breath_thorac']].astype('float').copy()\n",
    "\n",
    "df.iloc[:, :] = df.iloc[:, :] * none['sample_weight'].values[:, None]\n",
    "\n",
    "other_symptoms = df.sum(axis=0) / none['sample_weight'].sum()\n",
    "\n",
    "other_symptoms = (other_symptoms.sort_values(ascending=False) * 100).round(1)\n",
    "\n",
    "other_symptoms.to_csv(f'output/fig4_other_symptoms{\"_correct\" if WEIGHTING else \"\"}.csv')"
   ]
  },
  {
   "cell_type": "code",
   "execution_count": null,
   "metadata": {},
   "outputs": [],
   "source": [
    "grouped"
   ]
  },
  {
   "cell_type": "code",
   "execution_count": null,
   "metadata": {},
   "outputs": [],
   "source": []
  }
 ],
 "metadata": {
  "kernelspec": {
   "display_name": "Python 3",
   "language": "python",
   "name": "python3"
  },
  "language_info": {
   "codemirror_mode": {
    "name": "ipython",
    "version": 3
   },
   "file_extension": ".py",
   "mimetype": "text/x-python",
   "name": "python",
   "nbconvert_exporter": "python",
   "pygments_lexer": "ipython3",
   "version": "3.7.4"
  }
 },
 "nbformat": 4,
 "nbformat_minor": 4
}
