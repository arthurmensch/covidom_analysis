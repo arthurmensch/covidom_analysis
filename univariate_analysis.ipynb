{
 "cells": [
  {
   "cell_type": "code",
   "execution_count": null,
   "metadata": {},
   "outputs": [],
   "source": [
    "import os\n",
    "from os.path import join\n",
    "import pandas as pd\n",
    "import numpy as np\n",
    "\n",
    "import pandas as pd\n",
    "import seaborn as sns\n",
    "import numpy as np\n",
    "\n",
    "import re\n",
    "from functools import partial\n",
    "\n",
    "from joblib import load\n",
    "\n",
    "from tools import enrich_survey\n",
    "\n",
    "from joblib import load\n",
    "\n",
    "from matplotlib import ticker\n",
    "import matplotlib.pyplot as plt"
   ]
  },
  {
   "cell_type": "code",
   "execution_count": null,
   "metadata": {},
   "outputs": [],
   "source": [
    "merged = pd.read_csv(\"data/shuffled.csv\", index_col=0)"
   ]
  },
  {
   "cell_type": "code",
   "execution_count": null,
   "metadata": {},
   "outputs": [],
   "source": [
    "merged = merged.pipe(enrich_survey)"
   ]
  },
  {
   "cell_type": "code",
   "execution_count": null,
   "metadata": {},
   "outputs": [],
   "source": [
    "merged.shape"
   ]
  },
  {
   "cell_type": "code",
   "execution_count": null,
   "metadata": {},
   "outputs": [],
   "source": [
    "# Age\n",
    "SEX = ['male', 'female']\n",
    "TOBACCO = ['smoker_current', 'no_smoker']\n",
    "COMORBITIES = ['no_comorbidity', 'any_comorbidity', 'respiratory', 'cardio-vascular', 'diabetes', 'obesity']\n",
    "HOSPITALIZED = ['hospitalized','non_hospitalized']\n",
    "INCLUSION_REASONS = ['samu', 'urgence']\n",
    "AGE = merged['binned_age'].cat.categories.tolist()"
   ]
  },
  {
   "cell_type": "code",
   "execution_count": null,
   "metadata": {},
   "outputs": [],
   "source": [
    "import statsmodels.api as sm"
   ]
  },
  {
   "cell_type": "code",
   "execution_count": null,
   "metadata": {},
   "outputs": [],
   "source": [
    "from collections import defaultdict\n",
    "SYMPTOM_DICT = {}\n",
    "for s in ['tiredness', 'fever', 'cough', 'breathlessness', 'aches',\n",
    "          'anorexia', 'anosmia', 'ageusia', 'headache', \n",
    "#           'upper_respiratory',\n",
    "          'conjunctivitis']:\n",
    "    SYMPTOM_DICT[s] = [s]\n",
    "SYMPTOM_DICT['cutaneous'] = ['rash', 'frostbites']\n",
    "SYMPTOM_DICT['digestive'] = ['diarrhea', 'vomiting', 'abdo_pain']\n",
    "SYMPTOM_DICT['cardiopulmonary'] = ['breathlessness', 'chest_opression', 'chest_pain']\n",
    "for k, v in SYMPTOM_DICT.items():\n",
    "    merged[k] = np.any(merged[v], axis=1)\n",
    "SYMPTOMS = list(SYMPTOM_DICT.keys())"
   ]
  },
  {
   "cell_type": "code",
   "execution_count": null,
   "metadata": {},
   "outputs": [],
   "source": [
    "ALL =  ['all']"
   ]
  },
  {
   "cell_type": "code",
   "execution_count": null,
   "metadata": {},
   "outputs": [],
   "source": [
    "obs = {}\n",
    "from scipy.stats import chisquare\n",
    "groups = {'Full cohort': ALL, 'Sex': SEX, 'Age': AGE, 'Tobacco usage': TOBACCO, 'Comorbidities': COMORBITIES, 'Symptoms': SYMPTOMS, 'Hospitalized': HOSPITALIZED}"
   ]
  },
  {
   "cell_type": "code",
   "execution_count": null,
   "metadata": {},
   "outputs": [],
   "source": [
    "labels = sum(groups.values(), [])"
   ]
  },
  {
   "cell_type": "code",
   "execution_count": null,
   "metadata": {},
   "outputs": [],
   "source": [
    "merged['constant'] = 1."
   ]
  },
  {
   "cell_type": "code",
   "execution_count": null,
   "metadata": {},
   "outputs": [],
   "source": [
    "from numpy.linalg import LinAlgError"
   ]
  },
  {
   "cell_type": "code",
   "execution_count": null,
   "metadata": {},
   "outputs": [],
   "source": [
    "sm.families.Binomial()"
   ]
  },
  {
   "cell_type": "code",
   "execution_count": null,
   "metadata": {},
   "outputs": [],
   "source": [
    "X = merged[SEX + TOBACCO + COMORBITIES + AGE + SYMPTOMS + HOSPITALIZED]\n",
    "y = merged['test_done']\n",
    "\n",
    "from sklearn.linear_model import LogisticRegression\n",
    "\n",
    "lr = LogisticRegression(C=10000)\n",
    "lr.fit(X, y)\n",
    "p = lr.predict_proba(X)[:, 1]\n",
    "merged['p_test'] = p\n",
    "merged.loc[merged['test_done'], 'sample_weight'] = 1 / merged.loc[merged['test_done'], 'p_test']\n",
    "merged.loc[~merged['test_done'], 'sample_weight'] = 1 / (1 - merged.loc[~merged['test_done'], 'p_test'])\n",
    "merged['sample_weight'] /= merged.loc[merged['test_done'], 'sample_weight'].sum() / len(merged.loc[merged['test_done']])"
   ]
  },
  {
   "cell_type": "code",
   "execution_count": null,
   "metadata": {},
   "outputs": [],
   "source": [
    "merged['sample_weight'] .describe()"
   ]
  },
  {
   "cell_type": "code",
   "execution_count": null,
   "metadata": {},
   "outputs": [],
   "source": [
    "def make_observation_df(df, target, correct=False):\n",
    "    negative = df.loc[~(df['pcr_results'].fillna(True))]\n",
    "    positive = df.loc[df['pcr_results'].fillna(False)]\n",
    "    obs = {}\n",
    "    group_obs = {}\n",
    "    for group_name, group in groups.items():\n",
    "        in_vc_groups = {}\n",
    "        for k in group:\n",
    "            if not correct:\n",
    "                in_vc = df.loc[df[k], target].value_counts().reindex([True, False]).fillna(0).rename('in').to_frame()\n",
    "                in_vc_groups[k] = in_vc['in']\n",
    "                out_vc = df.loc[~df[k], target].value_counts().reindex([True, False]).fillna(0).rename('out').to_frame()\n",
    "                o = pd.concat((in_vc, out_vc), axis=1)\n",
    "                o.index = pd.Index(['tested', 'non_tested'])\n",
    "                obs[k] = o.unstack(0)\n",
    "            else:\n",
    "                res = {}\n",
    "                in_mask = df[k]\n",
    "                tested_mask = df[target]\n",
    "                res[('in', 'tested')] = df.loc[in_mask & tested_mask, 'sample_weight'].sum()\n",
    "                res[('in', 'non_tested')] = df.loc[in_mask & ~(tested_mask.fillna(True)), 'sample_weight'].sum()\n",
    "                res[('out', 'tested')] = df.loc[~in_mask & tested_mask, 'sample_weight'].sum()\n",
    "                res[('out', 'non_tested')] = df.loc[~in_mask & ~(tested_mask.fillna(True)), 'sample_weight'].sum()\n",
    "                obs[k] = pd.Series(res)\n",
    "            \n",
    "            if k != 'all':\n",
    "                y = df[target]\n",
    "                X = df[[k, 'constant']].astype(float)\n",
    "                mask = ~y.isna()\n",
    "                y = y.loc[mask].astype(float)\n",
    "                X = X.loc[mask]\n",
    "                sample_weight = df.loc[mask, 'sample_weight']\n",
    "                try:\n",
    "                    if correct:\n",
    "                        logit_mod = sm.GLM(y, X, family=sm.families.Binomial(), var_weights=sample_weight)\n",
    "                    else:\n",
    "                        logit_mod = sm.Logit(y, X)\n",
    "                    logit_res = logit_mod.fit(disp=0)\n",
    "                    mean = logit_res.params[k]\n",
    "                    se = logit_res.bse[k]\n",
    "                    obs[k][('stat', 'odd_ratio_tested_l')], obs[k][('stat', 'odd_ratio_tested')], obs[k][('stat', 'odd_ratio_tested_u')] = np.exp(mean - se), np.exp(mean), np.exp(mean + se)\n",
    "                    obs[k][('stat', 'p')] = logit_res.pvalues[k]\n",
    "                except LinAlgError:\n",
    "                    obs[k][('stat', 'odd_ratio_tested_l')], obs[k][('stat', 'odd_ratio_tested')], obs[k][('stat', 'odd_ratio_tested_u')] = float('inf'), float('inf'), float('inf')\n",
    "                    obs[k][('stat', 'p')] = 0\n",
    "\n",
    "            for l in ['in', 'out']:\n",
    "                obs[k][(l, 'sum')] = obs[k][l].sum()\n",
    "                obs[k][(l, 'freq_tested')] = obs[k][(l, 'tested')] / obs[k][(l, 'sum')]\n",
    "                obs[k][(l, 'freq_non_tested')] = obs[k][(l, 'non_tested')] / obs[k][(l, 'sum')]\n",
    "\n",
    "            for cat, filtered_df in zip(['freq_among_all', 'freq_among_positive', 'freq_among_negative'], [df, positive, negative]):\n",
    "                try:\n",
    "                    if correct:\n",
    "                        obs[k][('count', cat)] = filtered_df.loc[filtered_df[k], 'sample_weight'].sum()\n",
    "                        total = filtered_df.loc[~filtered_df[k].isna(), 'sample_weight'].sum()\n",
    "                        obs[k][('stat', cat)] = obs[k][('count', cat)] / total\n",
    "                    else:\n",
    "                        obs[k][('stat', cat)] = filtered_df[k].value_counts()[True] / filtered_df[k].count()\n",
    "                        obs[k][('count', cat)] = filtered_df[k].value_counts()[True]\n",
    "                except KeyError:\n",
    "                    obs[k][('stat', cat)] = 0\n",
    "                    obs[k][('count', cat)] = 0\n",
    "        if group_name in ['Age', 'Sex']:\n",
    "            y = df[target]\n",
    "            # Hack\n",
    "            X = df[group[:-1] + ['constant']].astype(float)\n",
    "            mask = ~y.isna()        \n",
    "            y = y.loc[mask].astype(float)\n",
    "            X = X.loc[mask]\n",
    "            sample_weight = df.loc[mask, 'sample_weight']\n",
    "            try:\n",
    "                if correct:\n",
    "                    logit_mod = sm.GLM(y, X, family=sm.families.Binomial(), var_weights=sample_weight)\n",
    "                else:\n",
    "                    logit_mod = sm.Logit(y, X)\n",
    "                d = np.eye(len(group))[:-1, :]\n",
    "                logit_res = logit_mod.fit(disp=0)\n",
    "                contrast = logit_res.wald_test(d)\n",
    "                group_obs[group_name] = {'p': contrast.pvalue}\n",
    "            except LinAlgError:\n",
    "                group_obs[group_name] = {'p': 0}\n",
    "        elif group_name != 'Full cohort':\n",
    "            group_obs[group_name] = {'p': obs[group[0]][('stat', 'p')]}\n",
    "    obs = pd.concat(obs.values(), keys=obs.keys()).unstack((1, 2))\n",
    "    group_obs = pd.DataFrame(group_obs).T\n",
    "    return obs, group_obs\n",
    "\n",
    "names = {'tiredness': 'Fatigue', 'cough': 'Cough', 'fever': 'Fever', 'cardiopulmonary': 'cardiolpulmonary', 'anosmia': 'Anosmia', 'anorexia': 'Anorexia', 'ageusia': 'Ageusia', 'aches': 'Myalgia',\n",
    "        'breathlessness': 'Breathlessness', 'digestive': 'Digestive troubles', 'cutaneous': 'Cutaneous symptoms', 'conjunctivitis': 'Conjunctivitis', 'headache': 'Headache', 'upper_respiratory': 'Upper respiratory symptoms',\n",
    "        'smoker_current': 'Smoking', 'cardiolpulmonary': 'Cardio-pulmonary symptoms',\n",
    "        'all': 'Full cohort',\n",
    "        'obesity': 'Obesity', 'male': 'Male', 'female': 'Female',\n",
    "        'any_comorbidity': 'Any',\n",
    "        'cardiopulmonary': 'Cardio-pulmonary',\n",
    "        'respiratory': 'Respiratory',\n",
    "        'cardio-vascular': 'Cardio-vascular',\n",
    "         'no_smoker': 'Not smoking',\n",
    "         'urgence': 'Emergency',\n",
    "         'samu': 'Emergency call',\n",
    "         'no_comorbidity': 'No comorbidity',\n",
    "         'hospitalized': 'Hospitalized',\n",
    "         'non_hospitalized': 'Non-hospitalized',\n",
    "        'diabetes': 'Diabetes'}\n",
    "\n",
    "\n",
    "def plot(obs, group_obs, plot_type='tested', correct=False):\n",
    "\n",
    "    if plot_type == 'tested':\n",
    "        blacklist = ['all', 'hospitalized', 'non_hospitalized']\n",
    "    else:\n",
    "        blacklist = ['all']\n",
    "    fig, (ax_freq, ax_odd) = plt.subplots(1, 2, figsize=(8, 11), gridspec_kw=dict(width_ratios=(2, 1)))\n",
    "\n",
    "    p_group_names = ['Age', 'Sex', 'Tobacco usage', 'Hospitalized']\n",
    "\n",
    "    pos = {}\n",
    "    i = 0\n",
    "    yticks = []\n",
    "    labels = []\n",
    "    for group_name, group in groups.items():\n",
    "        yticks.append(i)\n",
    "        label = group_name\n",
    "        if group_name in p_group_names:\n",
    "            p = group_obs.loc[group_name]['p']\n",
    "            if p < 0.0001:\n",
    "                label += ' (p<1e-04)'\n",
    "            else:\n",
    "                label += f' (p={p:.4f})'\n",
    "        labels.append(label)\n",
    "        group_pos = i\n",
    "        i -= 1.5\n",
    "        for k in group:\n",
    "            pos[k] = {'position': i, 'group_position': group_pos, 'group_name': group_name}\n",
    "            i -= 1\n",
    "        i -= 0.5\n",
    "\n",
    "    pos = pd.DataFrame(pos).T\n",
    "\n",
    "    pos.columns = pd.MultiIndex.from_product([['positions'], pos.columns])\n",
    "\n",
    "    obs = obs.join(pos)\n",
    "\n",
    "\n",
    "    for name, row in obs.iterrows():\n",
    "        widths = np.array([row[('in', 'freq_tested')], row[('in','freq_non_tested')]])\n",
    "        left = np.cumsum(widths) - widths\n",
    "        ax_freq.barh(row[('positions', 'position')], widths, left=left, color=['k', 'w'], edgecolor='k', label=['Tested', 'Non tested'])\n",
    "        if name not in blacklist and row[('positions', 'group_name')] not in p_group_names:\n",
    "            p = row[(\"stat\", \"p\")]\n",
    "            if p < 0.0001:\n",
    "                p = 'p<1e-04'\n",
    "            else:\n",
    "                p = f'p={row[(\"stat\", \"p\")]:.4f}'\n",
    "            ylim = 1.8 if plot_type == 'tested' else 7\n",
    "            ax_odd.annotate(p, xy=(ylim, row[('positions', 'position')]), \n",
    "                            xytext=(10, 0), textcoords='offset points', xycoords='data', va='center',\n",
    "                            color='gray' if row[(\"stat\", \"p\")] > 0.0001 else 'k')\n",
    "        centers = left + widths / 2\n",
    "        for i, (x, n, w) in enumerate(zip(centers, [row[('in', 'tested')], row[('in', 'non_tested')]], widths)):\n",
    "            ax_freq.annotate(f'{int(n):d}', xytext=(0, -1), xy=(x, row[('positions', 'position')]),\n",
    "                        xycoords='data', textcoords='offset points', ha='center', va='center',\n",
    "                        color='black' if i == 1 else 'white')\n",
    "    obs_ = obs.drop(index=blacklist)\n",
    "    xerr = np.abs((obs_['stat'][['odd_ratio_tested_l', 'odd_ratio_tested_u']].values - obs_['stat'][['odd_ratio_tested']].values).T)\n",
    "    ax_odd.errorbar(obs_[('stat', 'odd_ratio_tested')], obs_[('positions', 'position')], xerr=xerr, zorder=100, fmt='o', capsize = 5)\n",
    "    ax_odd.axvline([1], color='.5')\n",
    "    ax_odd.grid(axis='y')\n",
    "    ax_odd.set_yticks(obs_[('positions', 'position')])\n",
    "    ax_odd.set_yticklabels([])\n",
    "    ax_odd.tick_params(length=0, axis='y')\n",
    "\n",
    "    ax_freq.xaxis.set_major_formatter(ticker.PercentFormatter(xmax=1))\n",
    "\n",
    "    sns.despine(fig)\n",
    "    ax_odd.spines['left'].set_visible(False)\n",
    "    obs_no_all = obs.drop(index='all')\n",
    "    ax_freq.set_yticks(obs_no_all[('positions', 'position')])\n",
    "    ax_freq.set_yticklabels(obs_no_all.reset_index()['index'].replace(names))\n",
    "    ax_name = fig.add_subplot(111, sharey=ax_freq)\n",
    "    ax_name.set_xlim([0, 1])\n",
    "    ax_freq.set_xlim([-.05, 1.05])\n",
    "    ax_odd.set_ylim(ax_freq.get_ylim())\n",
    "    for n, l in zip(yticks, labels):\n",
    "        ax_name.annotate(l, xy=(.65, n), xycoords='data', va='center', ha='center')\n",
    "    if plot_type == 'tested':\n",
    "        ax_freq.set_xlabel('Proportion of tested/non-tested\\n patients within each group')\n",
    "        ax_odd.set_xlabel('Odds ratio of being tested \\n relative to complementary group')\n",
    "        ax_odd.set_xlim([0.6, 1.8])\n",
    "        ax_odd.xaxis.set_major_locator(ticker.MultipleLocator(base=0.5))\n",
    "        ax_odd.xaxis.set_minor_locator(ticker.MultipleLocator(base=0.1))\n",
    "        ax_odd.minorticks_on()\n",
    "    else:\n",
    "        ax_freq.set_xlabel('Proportion of PCR+/PCR-\\ntested patients\\nwithin each group')\n",
    "        ax_odd.set_xlabel(f'Odds ratio of being PCR+ \\nwhen tested, relative \\nto complementary group')\n",
    "        ax_odd.set_xscale('log')\n",
    "        ax_odd.set_xticks([0.5, 1, 2, 4, 7])\n",
    "        ax_odd.get_xaxis().set_major_formatter(ticker.ScalarFormatter())\n",
    "        ax_odd.minorticks_on()\n",
    "    ax_name.axis('off')\n",
    "    fig.subplots_adjust(left=0.3, right=0.8, bottom=0.08, top=0.98)\n",
    "    return fig"
   ]
  },
  {
   "cell_type": "code",
   "execution_count": null,
   "metadata": {},
   "outputs": [],
   "source": [
    "def compute_counts(obs_test, obs_positive):\n",
    "    counts_tested = obs_test['in'][['sum', 'tested', 'non_tested']].astype(int).rename(columns={'sum': 'Total', 'tested': 'Tested with PCR', 'non_tested': 'Non-tested with PCR'})\n",
    "    counts_positive = obs_positive['in'][['tested', 'non_tested']].astype(int).rename(columns={'tested': 'PCR+', 'non_tested': 'PCR-'})\n",
    "\n",
    "    counts = pd.concat([counts_tested, counts_positive], axis=1)\n",
    "\n",
    "    counts = counts[['Total', 'Non-tested with PCR', 'Tested with PCR', 'PCR+', 'PCR-']]\n",
    "\n",
    "    def apply(row):\n",
    "        if pd.isna(row[\"odd_ratio_tested_l\"]):\n",
    "            return np.nan\n",
    "        return f'[{row[\"odd_ratio_tested_l\"]:.2f}-{row[\"odd_ratio_tested_u\"]:.2f}]'\n",
    "\n",
    "    odd_ratio_test = obs_test['stat'][['odd_ratio_tested_l', 'odd_ratio_tested', 'odd_ratio_tested_u']].round(2)\n",
    "    odd_ratio_positive = obs_positive['stat'][['odd_ratio_tested_l', 'odd_ratio_tested', 'odd_ratio_tested_u']].round(2)\n",
    "\n",
    "    odd_ratio_test = odd_ratio_test.apply(apply, axis=1)\n",
    "    odd_ratio_positive = odd_ratio_positive.apply(apply, axis=1)\n",
    "\n",
    "    counts = pd.concat([counts, odd_ratio_test.rename('Odd ratio of being tested').to_frame(), odd_ratio_positive.rename('Odd ratio of being PCR+').to_frame()], axis=1)\n",
    "    \n",
    "    def simplify(p):\n",
    "        if p < 1e-4:\n",
    "            return '<0.0001'\n",
    "        else:\n",
    "            return f'{p:.4f}'\n",
    "    \n",
    "    counts['Significant effect on PCR testing'] = obs_test[('stat', 'p')].apply(simplify)\n",
    "    counts['Significant effect on PCR result'] = obs_positive[('stat', 'p')].apply(simplify)\n",
    "    \n",
    "    counts = counts.reset_index()\n",
    "    counts['index'] = counts['index'].replace(names)\n",
    "    counts = counts.set_index('index')\n",
    "\n",
    "    for idx, row in counts.iterrows():\n",
    "        counts.loc[idx, 'PCR+'] = f'{row[\"PCR+\"]} ({row[\"PCR+\"] / row[\"Tested with PCR\"] * 100:.1f}%)'\n",
    "        counts.loc[idx, 'PCR-'] = f'{row[\"PCR-\"]} ({row[\"PCR-\"] / row[\"Tested with PCR\"] * 100:.1f}%)'\n",
    "        counts.loc[idx, 'Tested with PCR'] = f'{row[\"Tested with PCR\"]} ({row[\"Tested with PCR\"] / row[\"Total\"] * 100:.1f}%)'\n",
    "        counts.loc[idx, 'Non-tested with PCR'] = f'{row[\"Non-tested with PCR\"]} ({row[\"Non-tested with PCR\"] / row[\"Total\"] * 100:.1f}%)'\n",
    "\n",
    "    \n",
    "    return counts"
   ]
  },
  {
   "cell_type": "code",
   "execution_count": null,
   "metadata": {},
   "outputs": [],
   "source": [
    "def plot_proportions(obs, group_obs):\n",
    "    p_group_names = ['Age', 'Gender', 'Tobacco usage']\n",
    "\n",
    "    pos = {}\n",
    "    i = 0\n",
    "    yticks = []\n",
    "    labels = []\n",
    "\n",
    "    for group_name, group in groups.items():\n",
    "        yticks.append(i)\n",
    "        label = group_name\n",
    "        labels.append(label)\n",
    "        group_pos = i\n",
    "        i -= 1.5\n",
    "        for k in group:\n",
    "            pos[k] = {'position': i, 'group_position': group_pos, 'group_name': group_name}\n",
    "            i -= 1\n",
    "        i -= 0.5\n",
    "\n",
    "    pos = pd.DataFrame(pos).T\n",
    "\n",
    "    pos.columns = pd.MultiIndex.from_product([['positions'], pos.columns])\n",
    "\n",
    "    obs = obs.join(pos)\n",
    "    \n",
    "    obs_no_all = obs.drop(index='all')\n",
    "\n",
    "    fig, ax = plt.subplots(1, 1, figsize=(6, 11))\n",
    "#     obs_ = obs.drop(index='all')\n",
    "    obs_ = obs\n",
    "    index = obs_.reset_index()['index'].replace(names)\n",
    "    ax.grid('y')\n",
    "    stat = obs_['stat']\n",
    "    position = obs_['positions']\n",
    "    ax.scatter(stat['freq_among_all'], position['position'], marker='d', color='C0', s=70, zorder=100, label='Full suspected\\npopulation')\n",
    "    ax.scatter(stat['freq_among_positive'], position['position'], marker='o', color='k', edgecolor='k', s=70, zorder=100, label='PCR+')\n",
    "    ax.scatter(stat['freq_among_negative'], position['position'], marker='o', color='w', edgecolor='k', s=70, zorder=100, label='PCR-')\n",
    "    ax.xaxis.set_major_formatter(ticker.PercentFormatter(xmax=1))\n",
    "    ax.set_xlim([0, 1])\n",
    "    ax.set_xlabel('Representation of covariate\\n in supected/PCR+/PCR-/ population')\n",
    "    ax.set_yticks(obs_no_all[('positions', 'position')])\n",
    "    ax.set_yticklabels(obs_no_all.reset_index()['index'].replace(names))\n",
    "    for n, l in zip(yticks, labels):\n",
    "        ax.annotate(l, xy=(.5, n), xycoords='data', va='center', ha='center')\n",
    "    ax.legend(frameon=True, loc='lower left', bbox_to_anchor= (0.7, 0.2))\n",
    "    sns.despine(fig)\n",
    "    fig.subplots_adjust(left=0.3, right=0.8, bottom=0.08, top=0.98)\n",
    "    return fig"
   ]
  },
  {
   "cell_type": "code",
   "execution_count": null,
   "metadata": {},
   "outputs": [],
   "source": [
    "for correct in [True, False]:\n",
    "    correct_str = \"_correct\" if correct else \"\"\n",
    "    obs_test, group_obs_test = make_observation_df(merged, 'test_done', correct=correct)\n",
    "    obs_test.to_csv(f'output/cohort_test{correct_str}.csv')\n",
    "    fig = plot(obs_test, group_obs_test, plot_type='tested', correct=correct)\n",
    "    fig.savefig(f'output/tested_cohort{correct_str}.pdf')\n",
    "    obs_positive, group_obs_positive = make_observation_df(merged.loc[merged['test_done']], 'pcr_results', correct=correct)\n",
    "    obs_positive.to_csv(f'output/cohort_positive{correct_str}.csv')  # Note positive means tested in this case\n",
    "    fig = plot(obs_positive, group_obs_positive, plot_type='positive', correct=correct)\n",
    "    fig.savefig(f'output/positive_cohort{correct_str}.pdf')\n",
    "    counts = compute_counts(obs_test, obs_positive)\n",
    "    counts.to_csv(f'output/count_{correct_str}')\n",
    "    fig = plot_proportions(obs_test, group_obs_test)\n",
    "    fig.savefig(f'output/pcr_representation{correct_str}.pdf')\n",
    "    obs_hospitalized, group_obs_hospitalized = make_observation_df(merged.loc[~merged['hospitalized'] & merged['test_done']], 'pcr_results', correct=correct)\n",
    "    fig = plot(obs_hospitalized, group_obs_hospitalized, plot_type='positive', correct=correct)\n",
    "    fig.savefig(f'output/positive_non_hospitalized_cohort{correct_str}.pdf')"
   ]
  },
  {
   "cell_type": "markdown",
   "metadata": {},
   "source": [
    "## BIG CSV"
   ]
  },
  {
   "cell_type": "code",
   "execution_count": null,
   "metadata": {},
   "outputs": [],
   "source": [
    "csv_test = obs_test[['in', 'stat']].round(2)\n",
    "csv_test.columns = pd.Index(['Tested', 'Not tested', 'All', 'Tested freq', 'Non-tested freq', 'Group size among all', 'Group size among positive', 'Group size among negative', 'Tested odd ratio (lower)', 'Tested odd ratio', 'Tested odd ratio (upper)', 'p-value: influence on PCR access'])\n",
    "csv_test['p-value: influence on PCR access'] = obs_test[('stat', 'p')]"
   ]
  },
  {
   "cell_type": "code",
   "execution_count": null,
   "metadata": {},
   "outputs": [],
   "source": [
    "csv_positive = obs_positive[['in', 'stat']].drop(columns=[('stat', 'freq_among_all'), ('stat', 'freq_among_positive'), ('stat', 'freq_among_negative')]).round(2)\n",
    "csv_positive.columns = pd.Index(['Positive', 'Negative', 'Tested', 'Positive freq', 'Negative freq', 'Positive odd ratio (lower)', 'Positive odd ratio', 'Positive odd ratio (upper)', 'p-value: influence on PCR positivity'])\n",
    "csv_positive['p-value: influence on PCR positivity'] = obs_positive[('stat', 'p')]"
   ]
  },
  {
   "cell_type": "code",
   "execution_count": null,
   "metadata": {},
   "outputs": [],
   "source": [
    "csv = pd.concat([csv_test, csv_positive.drop(columns='Tested')], axis=1)"
   ]
  },
  {
   "cell_type": "code",
   "execution_count": null,
   "metadata": {},
   "outputs": [],
   "source": [
    "csv = csv.reset_index()\n",
    "csv['index'] = csv['index'].replace(names)\n",
    "csv = csv.set_index('index')"
   ]
  },
  {
   "cell_type": "code",
   "execution_count": null,
   "metadata": {},
   "outputs": [],
   "source": [
    "csv.to_csv('output/statistics.csv')"
   ]
  },
  {
   "cell_type": "code",
   "execution_count": null,
   "metadata": {},
   "outputs": [],
   "source": [
    "fig = plot_proportions(obs_test, group_obs_test)\n",
    "fig.savefig('output/pcr_representation.pdf')"
   ]
  },
  {
   "cell_type": "code",
   "execution_count": null,
   "metadata": {},
   "outputs": [],
   "source": [
    "positive = merged.loc[merged['pcr_results'].fillna(False)]\n",
    "negative = merged.loc[~(merged['pcr_results'].fillna(True))]"
   ]
  },
  {
   "cell_type": "code",
   "execution_count": null,
   "metadata": {},
   "outputs": [],
   "source": [
    "positive['start_reason'].value_counts() / positive['start_reason'].count()"
   ]
  },
  {
   "cell_type": "markdown",
   "metadata": {},
   "source": [
    "## Paper numbers"
   ]
  },
  {
   "cell_type": "code",
   "execution_count": null,
   "metadata": {},
   "outputs": [],
   "source": [
    "def count_freq(x):\n",
    "    return pd.DataFrame({'count': x.value_counts(), 'freq':x.value_counts() / x.count()})"
   ]
  },
  {
   "cell_type": "code",
   "execution_count": null,
   "metadata": {},
   "outputs": [],
   "source": [
    "merged['ageusia&anosmia'] = merged['ageusia'] & merged['anosmia']\n",
    "merged['ageusia|anosmia'] = merged['ageusia'] | merged['anosmia']"
   ]
  },
  {
   "cell_type": "code",
   "execution_count": null,
   "metadata": {},
   "outputs": [],
   "source": [
    "merged.groupby(by='gender')['ageusia&anosmia'].apply(count_freq)"
   ]
  },
  {
   "cell_type": "code",
   "execution_count": null,
   "metadata": {},
   "outputs": [],
   "source": [
    "merged.groupby(by='ageusia&anosmia')['age'].aggregate(['mean', 'std'])"
   ]
  },
  {
   "cell_type": "code",
   "execution_count": null,
   "metadata": {},
   "outputs": [],
   "source": [
    "merged.groupby(by='ageusia|anosmia')['hospitalized'].apply(count_freq)"
   ]
  },
  {
   "cell_type": "code",
   "execution_count": null,
   "metadata": {},
   "outputs": [],
   "source": [
    "y = merged['hospitalized'].astype(float)\n",
    "X = merged['ageusia|anosmia'].astype(float)\n",
    "X = sm.add_constant(X)\n",
    "logit_mod = sm.Logit(y, X)\n",
    "logit_res = logit_mod.fit()\n",
    "mean = logit_res.params['ageusia|anosmia']\n",
    "se = logit_res.bse['ageusia|anosmia']\n",
    "p = logit_res.pvalues['ageusia|anosmia']\n",
    "\n",
    "or_ = np.exp(np.array([mean - se, mean + se]))\n",
    "\n",
    "or_, p"
   ]
  },
  {
   "cell_type": "code",
   "execution_count": null,
   "metadata": {},
   "outputs": [],
   "source": [
    "merged['to_ctscan'] = ~(merged['ageusia'] | merged['anosmia']) & merged['cardiopulmonary']\n",
    "\n",
    "merged.groupby(by='to_ctscan')['ctscan'].apply(lambda x: pd.DataFrame({'count': x.value_counts(), 'freq':x.value_counts() / x.count()}))\n",
    "merged.groupby(by='to_ctscan')['ctscan'].apply(lambda x: pd.DataFrame({'count': x.value_counts(), 'freq':x.value_counts() / x.count()}))"
   ]
  },
  {
   "cell_type": "code",
   "execution_count": null,
   "metadata": {},
   "outputs": [],
   "source": [
    "merged['start_reason'].value_counts()"
   ]
  },
  {
   "cell_type": "code",
   "execution_count": null,
   "metadata": {},
   "outputs": [],
   "source": []
  }
 ],
 "metadata": {
  "kernelspec": {
   "display_name": "Python 3",
   "language": "python",
   "name": "python3"
  },
  "language_info": {
   "codemirror_mode": {
    "name": "ipython",
    "version": 3
   },
   "file_extension": ".py",
   "mimetype": "text/x-python",
   "name": "python",
   "nbconvert_exporter": "python",
   "pygments_lexer": "ipython3",
   "version": "3.7.4"
  }
 },
 "nbformat": 4,
 "nbformat_minor": 4
}
